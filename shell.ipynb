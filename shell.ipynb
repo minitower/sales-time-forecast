{
 "cells": [
  {
   "cell_type": "code",
   "execution_count": 1,
   "metadata": {},
   "outputs": [
    {
     "name": "stdout",
     "output_type": "stream",
     "text": [
      "           click_id                call_time  \\\n",
      "0        4135092595  2022-05-11 05:53:34.000   \n",
      "1        4135092595  2022-05-11 06:27:17.000   \n",
      "2        4135092595  2022-05-11 07:01:41.000   \n",
      "3        4135092595  2022-05-11 07:32:37.000   \n",
      "4        4135116135  2022-05-11 08:12:33.000   \n",
      "...             ...                      ...   \n",
      "9979616  3803999549  2022-01-27 13:52:56.000   \n",
      "9979617  3803843339  2022-01-27 13:53:53.000   \n",
      "9979618  3804103689  2022-01-27 14:17:33.000   \n",
      "9979619  3802413614  2022-02-12 05:32:26.000   \n",
      "9979620  3802413614  2022-02-12 05:57:19.000   \n",
      "\n",
      "                                call_comment         id  \n",
      "0                            Не берет трубку  129548468  \n",
      "1                            Не берет трубку  129553688  \n",
      "2                            Не берет трубку  129556828  \n",
      "3        Клиент не отвечает/Выключен телефон  129563303  \n",
      "4        Клиент не отвечает/Выключен телефон  129568158  \n",
      "...                                      ...        ...  \n",
      "9979616                      Не берет трубку   65983659  \n",
      "9979617                      Не берет трубку   65984274  \n",
      "9979618                      Не берет трубку   66002039  \n",
      "9979619  Клиент не отвечает/Выключен телефон   75930544  \n",
      "9979620                     Нецелевая заявка   75937469  \n",
      "\n",
      "[9979621 rows x 4 columns]\n"
     ]
    }
   ],
   "source": [
    "import pandas as pd\n",
    "from ch_driver import *\n",
    "\n",
    "df = pd.read_csv(\"call_log.csv\")\n",
    "print(df)"
   ]
  },
  {
   "cell_type": "code",
   "execution_count": 16,
   "metadata": {},
   "outputs": [
    {
     "name": "stdout",
     "output_type": "stream",
     "text": [
      "                                comment\n",
      "0   Клиент не отвечает/Выключен телефон\n",
      "1                       Не берет трубку\n",
      "2                       Не смог продать\n",
      "3                      Нецелевая заявка\n",
      "4  Перезвонить позже, неудобно говорить\n",
      "5                               Продажа\n",
      "6                  Технический перезвон\n",
      "{0: 'Клиент не отвечает/Выключен телефон', 1: 'Не берет трубку', 2: 'Не смог продать', 3: 'Нецелевая заявка', 4: 'Перезвонить позже, неудобно говорить', 5: 'Продажа', 6: 'Технический перезвон'}\n"
     ]
    },
    {
     "data": {
      "text/plain": [
       "0          NaN\n",
       "1          NaN\n",
       "2          NaN\n",
       "3          NaN\n",
       "4          NaN\n",
       "          ... \n",
       "9979616    NaN\n",
       "9979617    NaN\n",
       "9979618    NaN\n",
       "9979619    NaN\n",
       "9979620    NaN\n",
       "Name: call_comment, Length: 9979621, dtype: object"
      ]
     },
     "execution_count": 16,
     "metadata": {},
     "output_type": "execute_result"
    }
   ],
   "source": [
    "callCommentArr = list(df[['id', 'call_comment']].groupby('call_comment').count().index) # categories call_comment from data base\n",
    "\n",
    "commentDF = pd.DataFrame(callCommentArr, columns=['comment'])\n",
    "commentDF\n",
    "\n",
    "uniqDF = df['click_id'].unique()\n",
    "\n",
    "print(commentDF)\n",
    "\n",
    "dictMap = {}\n",
    "\n",
    "for i in commentDF.index:\n",
    "    dictMap.update({commentDF.iloc[i][-1]: i}) # create dict for numerize call_comment\n",
    "\n",
    "print(dictMap)\n",
    "\n",
    "df['call_comment'].map(dictMap)\n",
    "#for i in range(len(commentDF)):\n",
    "    \n"
   ]
  },
  {
   "cell_type": "code",
   "execution_count": null,
   "metadata": {},
   "outputs": [],
   "source": []
  }
 ],
 "metadata": {
  "interpreter": {
   "hash": "767d51c1340bd893661ea55ea3124f6de3c7a262a8b4abca0554b478b1e2ff90"
  },
  "kernelspec": {
   "display_name": "Python 3.10.4 64-bit",
   "language": "python",
   "name": "python3"
  },
  "language_info": {
   "codemirror_mode": {
    "name": "ipython",
    "version": 3
   },
   "file_extension": ".py",
   "mimetype": "text/x-python",
   "name": "python",
   "nbconvert_exporter": "python",
   "pygments_lexer": "ipython3",
   "version": "3.10.4"
  },
  "orig_nbformat": 4
 },
 "nbformat": 4,
 "nbformat_minor": 2
}
