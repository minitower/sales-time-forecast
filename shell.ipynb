{
 "cells": [
  {
   "cell_type": "code",
   "execution_count": 1,
   "metadata": {},
   "outputs": [
    {
     "ename": "",
     "evalue": "",
     "output_type": "error",
     "traceback": [
      "\u001b[1;31mCanceled future for execute_request message before replies were done"
     ]
    },
    {
     "ename": "",
     "evalue": "",
     "output_type": "error",
     "traceback": [
      "\u001b[1;31mThe Kernel crashed while executing code in the the current cell or a previous cell. Please review the code in the cell(s) to identify a possible cause of the failure. Click <a href='https://aka.ms/vscodeJupyterKernelCrash'>here</a> for more info. View Jupyter <a href='command:jupyter.viewOutput'>log</a> for further details."
     ]
    }
   ],
   "source": [
    "import pandas as pd\n",
    "from ch_driver import *\n",
    "\n",
    "df = pd.read_csv(\"call_log.csv\")\n",
    "print(df)"
   ]
  },
  {
   "cell_type": "code",
   "execution_count": null,
   "metadata": {},
   "outputs": [],
   "source": []
  },
  {
   "cell_type": "code",
   "execution_count": 19,
   "metadata": {},
   "outputs": [
    {
     "name": "stdout",
     "output_type": "stream",
     "text": [
      "{'Клиент не отвечает/Выключен телефон': 0, 'Не берет трубку': 1, 'Не смог продать': 2, 'Нецелевая заявка': 3, 'Перезвонить позже, неудобно говорить': 4, 'Продажа': 5, 'Технический перезвон': 6}\n",
      "Succsessful sales:  5 , else - unsuccsessfull sales\n"
     ]
    }
   ],
   "source": [
    "callCommentArr = list(df[['id', 'call_comment']].groupby('call_comment').count().index) # categories call_comment from data base\n",
    "\n",
    "commentDF = pd.DataFrame(callCommentArr, columns=['comment'])\n",
    "commentDF\n",
    "\n",
    "uniqDF = df['click_id'].unique()\n",
    "\n",
    "dictMap = {}\n",
    "\n",
    "for i in commentDF.index:\n",
    "    dictMap.update({commentDF.iloc[i][-1]: i}) # create dict for numerize call_comment\n",
    "\n",
    "print(dictMap)\n",
    "\n",
    "print('Succsessful sales: ', dictMap['Продажа'], ', else - unsuccsessfull sales')\n",
    "\n",
    "df['mapped_comments'] = df['call_comment'].map(dictMap)\n",
    "\n",
    "\n",
    "#for i in range(len(commentDF)):\n",
    "    \n"
   ]
  },
  {
   "cell_type": "code",
   "execution_count": 22,
   "metadata": {},
   "outputs": [
    {
     "data": {
      "text/html": [
       "<div>\n",
       "<style scoped>\n",
       "    .dataframe tbody tr th:only-of-type {\n",
       "        vertical-align: middle;\n",
       "    }\n",
       "\n",
       "    .dataframe tbody tr th {\n",
       "        vertical-align: top;\n",
       "    }\n",
       "\n",
       "    .dataframe thead th {\n",
       "        text-align: right;\n",
       "    }\n",
       "</style>\n",
       "<table border=\"1\" class=\"dataframe\">\n",
       "  <thead>\n",
       "    <tr style=\"text-align: right;\">\n",
       "      <th></th>\n",
       "      <th>click_id</th>\n",
       "      <th>call_time</th>\n",
       "      <th>call_comment</th>\n",
       "      <th>id</th>\n",
       "      <th>mapped_comments</th>\n",
       "    </tr>\n",
       "  </thead>\n",
       "  <tbody>\n",
       "    <tr>\n",
       "      <th>41</th>\n",
       "      <td>3646033915</td>\n",
       "      <td>2021-11-07 00:50:05.000</td>\n",
       "      <td>Продажа</td>\n",
       "      <td>17755127</td>\n",
       "      <td>5</td>\n",
       "    </tr>\n",
       "    <tr>\n",
       "      <th>42</th>\n",
       "      <td>3646036215</td>\n",
       "      <td>2021-11-07 01:10:53.000</td>\n",
       "      <td>Продажа</td>\n",
       "      <td>17756335</td>\n",
       "      <td>5</td>\n",
       "    </tr>\n",
       "    <tr>\n",
       "      <th>43</th>\n",
       "      <td>3646044191</td>\n",
       "      <td>2021-11-07 01:13:55.000</td>\n",
       "      <td>Продажа</td>\n",
       "      <td>17756543</td>\n",
       "      <td>5</td>\n",
       "    </tr>\n",
       "    <tr>\n",
       "      <th>46</th>\n",
       "      <td>3646037799</td>\n",
       "      <td>2021-11-07 01:31:20.000</td>\n",
       "      <td>Продажа</td>\n",
       "      <td>17757819</td>\n",
       "      <td>5</td>\n",
       "    </tr>\n",
       "    <tr>\n",
       "      <th>53</th>\n",
       "      <td>3646096927</td>\n",
       "      <td>2021-11-07 02:28:25.000</td>\n",
       "      <td>Продажа</td>\n",
       "      <td>17762519</td>\n",
       "      <td>5</td>\n",
       "    </tr>\n",
       "    <tr>\n",
       "      <th>...</th>\n",
       "      <td>...</td>\n",
       "      <td>...</td>\n",
       "      <td>...</td>\n",
       "      <td>...</td>\n",
       "      <td>...</td>\n",
       "    </tr>\n",
       "    <tr>\n",
       "      <th>9979032</th>\n",
       "      <td>3804694169</td>\n",
       "      <td>2022-01-12 13:52:01.000</td>\n",
       "      <td>Продажа</td>\n",
       "      <td>55960834</td>\n",
       "      <td>5</td>\n",
       "    </tr>\n",
       "    <tr>\n",
       "      <th>9979120</th>\n",
       "      <td>3804213229</td>\n",
       "      <td>2022-01-22 18:27:38.000</td>\n",
       "      <td>Продажа</td>\n",
       "      <td>62788784</td>\n",
       "      <td>5</td>\n",
       "    </tr>\n",
       "    <tr>\n",
       "      <th>9979494</th>\n",
       "      <td>3804158549</td>\n",
       "      <td>2022-01-25 19:21:44.000</td>\n",
       "      <td>Продажа</td>\n",
       "      <td>64920784</td>\n",
       "      <td>5</td>\n",
       "    </tr>\n",
       "    <tr>\n",
       "      <th>9979514</th>\n",
       "      <td>3804096029</td>\n",
       "      <td>2022-01-25 19:51:27.000</td>\n",
       "      <td>Продажа</td>\n",
       "      <td>64942139</td>\n",
       "      <td>5</td>\n",
       "    </tr>\n",
       "    <tr>\n",
       "      <th>9979539</th>\n",
       "      <td>3803876284</td>\n",
       "      <td>2022-01-26 14:04:24.000</td>\n",
       "      <td>Продажа</td>\n",
       "      <td>65353579</td>\n",
       "      <td>5</td>\n",
       "    </tr>\n",
       "  </tbody>\n",
       "</table>\n",
       "<p>518471 rows × 5 columns</p>\n",
       "</div>"
      ],
      "text/plain": [
       "           click_id                call_time call_comment        id  \\\n",
       "41       3646033915  2021-11-07 00:50:05.000      Продажа  17755127   \n",
       "42       3646036215  2021-11-07 01:10:53.000      Продажа  17756335   \n",
       "43       3646044191  2021-11-07 01:13:55.000      Продажа  17756543   \n",
       "46       3646037799  2021-11-07 01:31:20.000      Продажа  17757819   \n",
       "53       3646096927  2021-11-07 02:28:25.000      Продажа  17762519   \n",
       "...             ...                      ...          ...       ...   \n",
       "9979032  3804694169  2022-01-12 13:52:01.000      Продажа  55960834   \n",
       "9979120  3804213229  2022-01-22 18:27:38.000      Продажа  62788784   \n",
       "9979494  3804158549  2022-01-25 19:21:44.000      Продажа  64920784   \n",
       "9979514  3804096029  2022-01-25 19:51:27.000      Продажа  64942139   \n",
       "9979539  3803876284  2022-01-26 14:04:24.000      Продажа  65353579   \n",
       "\n",
       "         mapped_comments  \n",
       "41                     5  \n",
       "42                     5  \n",
       "43                     5  \n",
       "46                     5  \n",
       "53                     5  \n",
       "...                  ...  \n",
       "9979032                5  \n",
       "9979120                5  \n",
       "9979494                5  \n",
       "9979514                5  \n",
       "9979539                5  \n",
       "\n",
       "[518471 rows x 5 columns]"
      ]
     },
     "execution_count": 22,
     "metadata": {},
     "output_type": "execute_result"
    }
   ],
   "source": [
    "df.loc[df['mapped_comments']== 5]"
   ]
  }
 ],
 "metadata": {
  "interpreter": {
   "hash": "767d51c1340bd893661ea55ea3124f6de3c7a262a8b4abca0554b478b1e2ff90"
  },
  "kernelspec": {
   "display_name": "Python 3.10.4 64-bit",
   "language": "python",
   "name": "python3"
  },
  "language_info": {
   "codemirror_mode": {
    "name": "ipython",
    "version": 3
   },
   "file_extension": ".py",
   "mimetype": "text/x-python",
   "name": "python",
   "nbconvert_exporter": "python",
   "pygments_lexer": "ipython3",
   "version": "3.10.4"
  },
  "orig_nbformat": 4
 },
 "nbformat": 4,
 "nbformat_minor": 2
}
