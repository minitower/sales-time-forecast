{
 "cells": [
  {
   "cell_type": "code",
   "execution_count": 1,
   "metadata": {},
   "outputs": [
    {
     "name": "stdout",
     "output_type": "stream",
     "text": [
      "           click_id   age gender  fake_approve     var  \\\n",
      "0        3814778104   NaN   None             0  211488   \n",
      "1        3932802949  50.0      m             0    1423   \n",
      "2        4103118085  60.0      f             0       0   \n",
      "3        3903065999  45.0      f             0       0   \n",
      "4        3866791719  45.0      f             0       0   \n",
      "...             ...   ...    ...           ...     ...   \n",
      "1874802  3819912969  76.0      f             0    1971   \n",
      "1874803  3827176359   NaN   None             0       0   \n",
      "1874804  3879239229   NaN   None             0   83361   \n",
      "1874805  3802277469   1.0      m             0       0   \n",
      "1874806  3821323864   NaN   None             0  239259   \n",
      "\n",
      "                                                   comment  isSuccsess  \\\n",
      "0        {\"base\":\"refuse_tm_no_answer\",\"text\":\"Не дозво...           0   \n",
      "1               {\"base\":\"refuse_tm_no_lid\",\"select\":\"289\"}           0   \n",
      "2               {\"base\":\"refuse_tm_no_lid\",\"select\":\"289\"}           0   \n",
      "3                                                       []           1   \n",
      "4        {\"base\":\"refuse_tm_no_lid\",\"text\":\"no tiene di...           0   \n",
      "...                                                    ...         ...   \n",
      "1874802                                                 []           1   \n",
      "1874803  {\"base\":\"refuse_tm_fraud\",\"text\":\"Не оставлял ...           0   \n",
      "1874804                                                NaN           0   \n",
      "1874805         {\"base\":\"refuse_tm_no_lid\",\"select\":\"289\"}           0   \n",
      "1874806  {\"base\":\"refuse_tm_no_answer\",\"text\":\"Не дозво...           0   \n",
      "\n",
      "                   saleTimestamp  numOfCalls  \\\n",
      "0        1970-01-01 03:00:00.000          14   \n",
      "1        1970-01-01 03:00:00.000           5   \n",
      "2        1970-01-01 03:00:00.000           1   \n",
      "3        2022-02-04 06:32:43.000           1   \n",
      "4        1970-01-01 03:00:00.000           2   \n",
      "...                          ...         ...   \n",
      "1874802  2022-01-09 17:56:47.000           4   \n",
      "1874803  1970-01-01 03:00:00.000           1   \n",
      "1874804  1970-01-01 03:00:00.000           6   \n",
      "1874805  1970-01-01 03:00:00.000           1   \n",
      "1874806  1970-01-01 03:00:00.000          24   \n",
      "\n",
      "                                            callTimeSeries  \\\n",
      "0        [''2022-01-08 11:13:35.000'',''2022-01-08 15:0...   \n",
      "1        [''2022-02-15 14:24:17.000'',''2022-02-15 14:3...   \n",
      "2                            [''2022-04-21 16:23:23.000'']   \n",
      "3                            [''2022-02-04 06:32:43.000'']   \n",
      "4                            [''2022-01-23 10:29:06.000'']   \n",
      "...                                                    ...   \n",
      "1874802  [''2022-01-09 17:23:56.000'',''2022-01-09 17:5...   \n",
      "1874803                      [''2022-01-11 16:04:54.000'']   \n",
      "1874804  [''2022-01-27 14:07:14.000'',''2022-01-28 13:1...   \n",
      "1874805                      [''2022-01-04 07:53:28.000'']   \n",
      "1874806  [''2022-01-11 18:33:24.000'',''2022-01-10 12:3...   \n",
      "\n",
      "                                            callCommentArr  \n",
      "0                  ['Клиент не отвечает/Выключен телефон']  \n",
      "1                    ['Не берет трубку','Не смог продать']  \n",
      "2                                      ['Не смог продать']  \n",
      "3                                              ['Продажа']  \n",
      "4                                      ['Не смог продать']  \n",
      "...                                                    ...  \n",
      "1874802                      ['Не берет трубку','Продажа']  \n",
      "1874803                               ['Нецелевая заявка']  \n",
      "1874804  ['Технический перезвон','Не берет трубку','Не ...  \n",
      "1874805                                ['Не смог продать']  \n",
      "1874806            ['Клиент не отвечает/Выключен телефон']  \n",
      "\n",
      "[1874807 rows x 11 columns]\n"
     ]
    }
   ],
   "source": [
    "import pandas as pd\n",
    "from ch_driver import *\n",
    "\n",
    "df = pd.read_csv(\"./concatResponse.csv\")\n",
    "print(df)"
   ]
  },
  {
   "cell_type": "code",
   "execution_count": 11,
   "metadata": {},
   "outputs": [
    {
     "data": {
      "text/plain": [
       "0.566306291794302"
      ]
     },
     "execution_count": 11,
     "metadata": {},
     "output_type": "execute_result"
    }
   ],
   "source": [
    "df_new = df.loc[(df['age'].isna() == False) & (df['gender'] != \"None\")]\n",
    "len(df_new) / len(df)"
   ]
  },
  {
   "cell_type": "code",
   "execution_count": 18,
   "metadata": {},
   "outputs": [
    {
     "name": "stdout",
     "output_type": "stream",
     "text": [
      "Percent of success sales:  0.28443130080389095\n",
      "Percent of lost sales:  0.715568699196109\n",
      "Percent of known sales:  1.0\n"
     ]
    }
   ],
   "source": [
    "successSales = df.loc[df['isSuccsess'] == 1]\n",
    "lostSales = df.loc[df['isSuccsess'] == 0]\n",
    "print(\"Percent of success sales: \", len(successSales) / len(df))\n",
    "print(\"Percent of lost sales: \", len(lostSales) / len(df))\n",
    "print(\"Percent of known sales: \", (len(successSales) + len(lostSales)) / len(df))"
   ]
  },
  {
   "cell_type": "code",
   "execution_count": 17,
   "metadata": {},
   "outputs": [
    {
     "name": "stdout",
     "output_type": "stream",
     "text": [
      "Percent of female customers:  0.39678806734015365\n",
      "Percent of male customers:  0.2823898000792463\n",
      "Percent of gender of customers in DB:  0.6791778674194\n"
     ]
    }
   ],
   "source": [
    "maleSales = df.loc[df['gender'] == 'm']\n",
    "femaleSales = df.loc[df['gender'] == 'f']\n",
    "print(\"Percent of female customers: \", len(femaleSales) / len(df))\n",
    "print(\"Percent of male customers: \", len(maleSales) / len(df))\n",
    "print(\"Percent of gender of customers in DB: \", (len(maleSales) + len(femaleSales)) / len(df))\n"
   ]
  },
  {
   "cell_type": "code",
   "execution_count": 21,
   "metadata": {},
   "outputs": [
    {
     "name": "stdout",
     "output_type": "stream",
     "text": [
      "Percent of known age of customers in DB: 0.32082213258060005\n",
      "Percent of unknown age of customers in DB: 0.6791778674194\n"
     ]
    },
    {
     "ename": "",
     "evalue": "",
     "output_type": "error",
     "traceback": [
      "\u001b[1;31mThe Kernel crashed while executing code in the the current cell or a previous cell. Please review the code in the cell(s) to identify a possible cause of the failure. Click <a href='https://aka.ms/vscodeJupyterKernelCrash'>here</a> for more info. View Jupyter <a href='command:jupyter.viewOutput'>log</a> for further details."
     ]
    }
   ],
   "source": [
    "knownAge = df.loc[df['gender'] == \"None\"]\n",
    "print(f\"Percent of known age of customers in DB: {len(knownAge) / len(df)}\")\n",
    "print(f\"Percent of unknown age of customers in DB: {1 - (len(knownAge) / len(df))}\")"
   ]
  }
 ],
 "metadata": {
  "interpreter": {
   "hash": "767d51c1340bd893661ea55ea3124f6de3c7a262a8b4abca0554b478b1e2ff90"
  },
  "kernelspec": {
   "display_name": "Python 3.10.4 64-bit",
   "language": "python",
   "name": "python3"
  },
  "language_info": {
   "codemirror_mode": {
    "name": "ipython",
    "version": 3
   },
   "file_extension": ".py",
   "mimetype": "text/x-python",
   "name": "python",
   "nbconvert_exporter": "python",
   "pygments_lexer": "ipython3",
   "version": "3.10.4"
  },
  "orig_nbformat": 4
 },
 "nbformat": 4,
 "nbformat_minor": 2
}
